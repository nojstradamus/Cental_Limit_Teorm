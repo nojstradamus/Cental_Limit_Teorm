{
 "cells": [
  {
   "cell_type": "code",
   "execution_count": 1,
   "metadata": {},
   "outputs": [],
   "source": [
    "import pandas as pd\n",
    "import numpy as np\n",
    "import matplotlib.pyplot as plt\n",
    "from scipy.stats import ttest_ind\n",
    "%matplotlib inline"
   ]
  },
  {
   "cell_type": "code",
   "execution_count": 11,
   "metadata": {},
   "outputs": [
    {
     "name": "stdout",
     "output_type": "stream",
     "text": [
      "mean of sample1: 1.97\n",
      "mean of sample2: 5.1\n",
      "standard deviation of sample1: 1.322535443759448\n",
      "standard deviaion of samplle2: 1.6522711641858305\n"
     ]
    }
   ],
   "source": [
    "pop1 = np.random.binomial(10, 0.2, 1000)\n",
    "pop2 = np.random.binomial(10, 0.5, 1000)\n",
    "\n",
    "sample1 = np.random.choice(pop1, 100,replace=True)\n",
    "sample2 = np.random.choice(pop2, 100,replace=True)\n",
    "\n",
    "print('mean of sample1:', sample1.mean())\n",
    "print('mean of sample2:', sample2.mean())\n",
    "print('standard deviation of sample1:', sample1.std())\n",
    "print('standard deviaion of samplle2:', sample2.std())"
   ]
  },
  {
   "cell_type": "markdown",
   "metadata": {},
   "source": [
    "In the case that the sample size increases I would say that the std decreases due to there being more values in the sample. the mean for both will stay roughly the same."
   ]
  },
  {
   "cell_type": "code",
   "execution_count": 16,
   "metadata": {},
   "outputs": [
    {
     "name": "stdout",
     "output_type": "stream",
     "text": [
      "mean of sample1: 1.964\n",
      "mean of sample2: 4.935\n",
      "standard deviation of sample1: 1.229106992901757\n",
      "standard deviaion of samplle2: 1.5299591497814575\n"
     ]
    },
    {
     "data": {
      "image/png": "[encoded data removed]",
      "text/plain": [
       "<Figure size 432x288 with 1 Axes>"
      ]
     },
     "metadata": {},
     "output_type": "display_data"
    }
   ],
   "source": [
    "sample1 = np.random.choice(pop1, 1000,replace=True)\n",
    "sample2 = np.random.choice(pop2, 1000,replace=True)\n",
    "\n",
    "print('mean of sample1:', sample1.mean())\n",
    "print('mean of sample2:', sample2.mean())\n",
    "print('standard deviation of sample1:', sample1.std())\n",
    "print('standard deviaion of samplle2:', sample2.std())\n",
    "\n",
    "plt.hist(sample1, label='sample1')\n",
    "plt.hist(sample2, label='sample2')\n",
    "plt.legend(loc='upper right')\n",
    "plt.show()"
   ]
  },
  {
   "cell_type": "markdown",
   "metadata": {},
   "source": [
    "They all slightly dreceased and in the hist, sample 1 tends toward the left while sample2 tends toward the center."
   ]
  },
  {
   "cell_type": "markdown",
   "metadata": {},
   "source": [
    "By decreasing the sample size I believe the mean and std to increase dramatically. In the histograms, the values of the y axis will dramtically decreasee and the population will look less dense. "
   ]
  },
  {
   "cell_type": "code",
   "execution_count": 17,
   "metadata": {},
   "outputs": [
    {
     "name": "stdout",
     "output_type": "stream",
     "text": [
      "mean of sample1: 1.55\n",
      "mean of sample2: 5.4\n",
      "standard deviation of sample1: 0.8645808232895293\n",
      "standard deviaion of samplle2: 1.3564659966250538\n"
     ]
    },
    {
     "data": {
      "image/png": "[encoded data removed]",
      "text/plain": [
       "<Figure size 432x288 with 1 Axes>"
      ]
     },
     "metadata": {},
     "output_type": "display_data"
    }
   ],
   "source": [
    "sample1 = np.random.choice(pop1, 20,replace=True)\n",
    "sample2 = np.random.choice(pop2, 20,replace=True)\n",
    "\n",
    "print('mean of sample1:', sample1.mean())\n",
    "print('mean of sample2:', sample2.mean())\n",
    "print('standard deviation of sample1:', sample1.std())\n",
    "print('standard deviaion of samplle2:', sample2.std())\n",
    "\n",
    "plt.hist(sample1, label='sample1')\n",
    "plt.hist(sample2, label='sample2')\n",
    "plt.legend(loc='upper right')\n",
    "plt.show()"
   ]
  },
  {
   "cell_type": "markdown",
   "metadata": {},
   "source": [
    "I did not except the scores in decrease by that much."
   ]
  },
  {
   "cell_type": "code",
   "execution_count": 20,
   "metadata": {},
   "outputs": [
    {
     "name": "stdout",
     "output_type": "stream",
     "text": [
      "Ttest_indResult(statistic=8.743670132663144, pvalue=9.713854578175524e-16)\n"
     ]
    }
   ],
   "source": [
    "pop1 = np.random.binomial(10, 0.3, 1000)\n",
    "pop2 = np.random.binomial(10, 0.5, 1000)\n",
    "\n",
    "sample1 = np.random.choice(pop1, 100,replace=True)\n",
    "sample2 = np.random.choice(pop2, 100,replace=True)\n",
    "print(ttest_ind(sample2, sample1, equal_var=False))"
   ]
  },
  {
   "cell_type": "code",
   "execution_count": 21,
   "metadata": {},
   "outputs": [
    {
     "name": "stdout",
     "output_type": "stream",
     "text": [
      "Ttest_indResult(statistic=5.371694078804619, pvalue=2.1902101526388278e-07)\n"
     ]
    }
   ],
   "source": [
    "pop1 = np.random.binomial(10, 0.3, 1000)\n",
    "pop2 = np.random.binomial(10, 0.4, 1000)\n",
    "\n",
    "sample1 = np.random.choice(pop1, 100,replace=True)\n",
    "sample2 = np.random.choice(pop2, 100,replace=True)\n",
    "print(ttest_ind(sample2, sample1, equal_var=False))"
   ]
  },
  {
   "cell_type": "markdown",
   "metadata": {},
   "source": [
    "the t-value and the p-value decrease. could this be because the two probabilities are closer to each other?"
   ]
  },
  {
   "cell_type": "code",
   "execution_count": 22,
   "metadata": {},
   "outputs": [
    {
     "name": "stdout",
     "output_type": "stream",
     "text": [
      "mean of sample1: 10.0179127811944\n",
      "mean of sample2: 9.92312729841934\n",
      "standard deviation of sample1: 0.1917389677754681\n",
      "standard deviaion of samplle2: 0.5377268794891416\n"
     ]
    }
   ],
   "source": [
    "pop1 = np.random.normal(10, 0.2, 1000)\n",
    "pop2 = np.random.normal(10, 0.5, 1000)\n",
    "\n",
    "sample1 = np.random.choice(pop1, 100,replace=True)\n",
    "sample2 = np.random.choice(pop2, 100,replace=True)\n",
    "\n",
    "print('mean of sample1:', sample1.mean())\n",
    "print('mean of sample2:', sample2.mean())\n",
    "print('standard deviation of sample1:', sample1.std())\n",
    "print('standard deviaion of samplle2:', sample2.std())"
   ]
  },
  {
   "cell_type": "markdown",
   "metadata": {},
   "source": [
    "Hard to say about what these distributions say about the population. In the normal distribution the std is very low, which makes me think that the sampling was done accurately or at least percisely . "
   ]
  }
 ],
 "metadata": {
  "kernelspec": {
   "display_name": "Python 3",
   "language": "python",
   "name": "python3"
  },
  "language_info": {
   "codemirror_mode": {
    "name": "ipython",
    "version": 3
   },
   "file_extension": ".py",
   "mimetype": "text/x-python",
   "name": "python",
   "nbconvert_exporter": "python",
   "pygments_lexer": "ipython3",
   "version": "3.6.5"
  }
 },
 "nbformat": 4,
 "nbformat_minor": 2
}
